{
 "cells": [
  {
   "cell_type": "markdown",
   "id": "482063a1",
   "metadata": {
    "papermill": {
     "duration": 0.006718,
     "end_time": "2024-03-09T15:50:17.093444",
     "exception": false,
     "start_time": "2024-03-09T15:50:17.086726",
     "status": "completed"
    },
    "tags": []
   },
   "source": [
    "# Introduction\n",
    "## Acknowledgements\n",
    "The original base of this notebook was copied from @andreasbis. We thank them for supplying a useful baseline to expand upon. Please take a look at their work: https://www.kaggle.com/code/andreasbis/hms-train-efficientnetb1."
   ]
  },
  {
   "cell_type": "markdown",
   "id": "6ac8010a",
   "metadata": {
    "papermill": {
     "duration": 0.005894,
     "end_time": "2024-03-09T15:50:17.105651",
     "exception": false,
     "start_time": "2024-03-09T15:50:17.099757",
     "status": "completed"
    },
    "tags": []
   },
   "source": [
    "# Imports"
   ]
  },
  {
   "cell_type": "code",
   "execution_count": 1,
   "id": "a03444dd",
   "metadata": {
    "execution": {
     "iopub.execute_input": "2024-03-09T15:50:17.119735Z",
     "iopub.status.busy": "2024-03-09T15:50:17.119011Z",
     "iopub.status.idle": "2024-03-09T15:50:27.131285Z",
     "shell.execute_reply": "2024-03-09T15:50:27.130307Z"
    },
    "papermill": {
     "duration": 10.021619,
     "end_time": "2024-03-09T15:50:27.133288",
     "exception": false,
     "start_time": "2024-03-09T15:50:17.111669",
     "status": "completed"
    },
    "tags": []
   },
   "outputs": [
    {
     "data": {
      "text/plain": [
       "16"
      ]
     },
     "execution_count": 1,
     "metadata": {},
     "output_type": "execute_result"
    }
   ],
   "source": [
    "import gc\n",
    "import os\n",
    "import random\n",
    "import warnings\n",
    "from IPython.display import display\n",
    "\n",
    "import numpy as np\n",
    "import pandas as pd\n",
    "\n",
    "import timm\n",
    "import torch\n",
    "import optuna\n",
    "import torch.nn as nn  \n",
    "import torch.optim as optim\n",
    "import torch.nn.functional as F\n",
    "import torchvision.transforms as transforms\n",
    "from torch.optim.lr_scheduler import CosineAnnealingLR, ReduceLROnPlateau\n",
    "\n",
    "warnings.filterwarnings('ignore', category=Warning)\n",
    "gc.collect()"
   ]
  },
  {
   "cell_type": "markdown",
   "id": "9bcca250",
   "metadata": {
    "papermill": {
     "duration": 0.006176,
     "end_time": "2024-03-09T15:50:27.146149",
     "exception": false,
     "start_time": "2024-03-09T15:50:27.139973",
     "status": "completed"
    },
    "tags": []
   },
   "source": [
    "# Setup"
   ]
  },
  {
   "cell_type": "code",
   "execution_count": 2,
   "id": "faa8155c",
   "metadata": {
    "execution": {
     "iopub.execute_input": "2024-03-09T15:50:27.159954Z",
     "iopub.status.busy": "2024-03-09T15:50:27.159400Z",
     "iopub.status.idle": "2024-03-09T15:50:27.350418Z",
     "shell.execute_reply": "2024-03-09T15:50:27.349541Z"
    },
    "papermill": {
     "duration": 0.200143,
     "end_time": "2024-03-09T15:50:27.352421",
     "exception": false,
     "start_time": "2024-03-09T15:50:27.152278",
     "status": "completed"
    },
    "tags": []
   },
   "outputs": [
    {
     "data": {
      "text/plain": [
       "0"
      ]
     },
     "execution_count": 2,
     "metadata": {},
     "output_type": "execute_result"
    }
   ],
   "source": [
    "labels = ['seizure', 'lpd', 'gpd', 'lrda', 'grda', 'other']\n",
    "\n",
    "class Config:\n",
    "    seed = 3131\n",
    "    image_transform = transforms.Resize((512,512))\n",
    "    batch_size = 16\n",
    "    num_epochs = 9\n",
    "    num_folds = 5\n",
    "    num_trials = 40\n",
    "    dataset_wide_mean = 0\n",
    "    dataset_wide_std = 0\n",
    "    manual_pruning_threshold = 0.57\n",
    "    optimize_hyperparameters = True\n",
    "    \n",
    "class HyperparameterSpaces:\n",
    "    lowpass = {\n",
    "        \"min\": np.exp(10),\n",
    "        \"max\": np.exp(10)\n",
    "    }\n",
    "    highpass = {\n",
    "        \"min\": np.exp(-6),\n",
    "        \"max\": np.exp(-6)\n",
    "    }\n",
    "    learning_rate = {\n",
    "        \"min\": 0.0005,\n",
    "        \"max\": 0.0015\n",
    "    }\n",
    "    dropout = {\n",
    "        \"min\": 0.17,\n",
    "        \"max\": 0.23\n",
    "    }\n",
    "\n",
    "    schedulers = [\"CosineAnnealingLR\", \"ReduceLROnPlateau\"]\n",
    "    normalize_dataset_wide = [True,]\n",
    "\n",
    "class HyperparameterPreset:\n",
    "    lowpass = np.exp(10)\n",
    "    highpass = np.exp(-6)\n",
    "    learning_rate = 0.00137263241151172\n",
    "    dropout = 0.184235721122803\n",
    "    scheduler = \"CosineAnnealingLR\"\n",
    "    normalize_dataset_wide = True\n",
    "    \n",
    "def set_seed(seed):\n",
    "    torch.backends.cudnn.deterministic = True\n",
    "    torch.backends.cudnn.benchmark = True\n",
    "    \n",
    "    torch.manual_seed(seed)\n",
    "    np.random.seed(seed)\n",
    "    random.seed(seed)\n",
    "\n",
    "def kl_loss(p, q):\n",
    "    epsilon = 10 ** (-15)\n",
    "    \n",
    "    p = torch.clamp(p, epsilon, 1 - epsilon)\n",
    "    log_p = torch.log(p)\n",
    "    log_q = nn.functional.log_softmax(q, dim=1)\n",
    "    \n",
    "    kl_divergence_per_point = p * (log_p - log_q)\n",
    "    kl_divergence_per_label = torch.sum(kl_divergence_per_point, dim=1)\n",
    "    \n",
    "    return torch.mean(kl_divergence_per_label)\n",
    "\n",
    "set_seed(Config.seed)\n",
    "gc.collect()"
   ]
  },
  {
   "cell_type": "markdown",
   "id": "cebb47ea",
   "metadata": {
    "papermill": {
     "duration": 0.006586,
     "end_time": "2024-03-09T15:50:27.365543",
     "exception": false,
     "start_time": "2024-03-09T15:50:27.358957",
     "status": "completed"
    },
    "tags": []
   },
   "source": [
    "# Data Loading"
   ]
  },
  {
   "cell_type": "code",
   "execution_count": 3,
   "id": "9c6e9685",
   "metadata": {
    "execution": {
     "iopub.execute_input": "2024-03-09T15:50:27.379720Z",
     "iopub.status.busy": "2024-03-09T15:50:27.379222Z",
     "iopub.status.idle": "2024-03-09T15:50:27.895469Z",
     "shell.execute_reply": "2024-03-09T15:50:27.894534Z"
    },
    "papermill": {
     "duration": 0.525652,
     "end_time": "2024-03-09T15:50:27.897700",
     "exception": false,
     "start_time": "2024-03-09T15:50:27.372048",
     "status": "completed"
    },
    "tags": []
   },
   "outputs": [
    {
     "data": {
      "text/html": [
       "<div>\n",
       "<style scoped>\n",
       "    .dataframe tbody tr th:only-of-type {\n",
       "        vertical-align: middle;\n",
       "    }\n",
       "\n",
       "    .dataframe tbody tr th {\n",
       "        vertical-align: top;\n",
       "    }\n",
       "\n",
       "    .dataframe thead th {\n",
       "        text-align: right;\n",
       "    }\n",
       "</style>\n",
       "<table border=\"1\" class=\"dataframe\">\n",
       "  <thead>\n",
       "    <tr style=\"text-align: right;\">\n",
       "      <th></th>\n",
       "      <th>spectrogram_id</th>\n",
       "      <th>seizure_vote</th>\n",
       "      <th>lpd_vote</th>\n",
       "      <th>gpd_vote</th>\n",
       "      <th>lrda_vote</th>\n",
       "      <th>grda_vote</th>\n",
       "      <th>other_vote</th>\n",
       "      <th>path</th>\n",
       "    </tr>\n",
       "  </thead>\n",
       "  <tbody>\n",
       "    <tr>\n",
       "      <th>0</th>\n",
       "      <td>353733</td>\n",
       "      <td>1.000000</td>\n",
       "      <td>0.0000</td>\n",
       "      <td>0.000000</td>\n",
       "      <td>0.000000</td>\n",
       "      <td>0.000000</td>\n",
       "      <td>0.000000</td>\n",
       "      <td>/kaggle/input/hms-harmful-brain-activity-class...</td>\n",
       "    </tr>\n",
       "    <tr>\n",
       "      <th>1</th>\n",
       "      <td>924234</td>\n",
       "      <td>0.000000</td>\n",
       "      <td>0.0000</td>\n",
       "      <td>0.454545</td>\n",
       "      <td>0.000000</td>\n",
       "      <td>0.090909</td>\n",
       "      <td>0.454545</td>\n",
       "      <td>/kaggle/input/hms-harmful-brain-activity-class...</td>\n",
       "    </tr>\n",
       "    <tr>\n",
       "      <th>2</th>\n",
       "      <td>999431</td>\n",
       "      <td>0.000000</td>\n",
       "      <td>0.0625</td>\n",
       "      <td>0.000000</td>\n",
       "      <td>0.875000</td>\n",
       "      <td>0.000000</td>\n",
       "      <td>0.062500</td>\n",
       "      <td>/kaggle/input/hms-harmful-brain-activity-class...</td>\n",
       "    </tr>\n",
       "    <tr>\n",
       "      <th>3</th>\n",
       "      <td>1084844</td>\n",
       "      <td>0.000000</td>\n",
       "      <td>0.0000</td>\n",
       "      <td>0.000000</td>\n",
       "      <td>1.000000</td>\n",
       "      <td>0.000000</td>\n",
       "      <td>0.000000</td>\n",
       "      <td>/kaggle/input/hms-harmful-brain-activity-class...</td>\n",
       "    </tr>\n",
       "    <tr>\n",
       "      <th>4</th>\n",
       "      <td>1219001</td>\n",
       "      <td>0.677419</td>\n",
       "      <td>0.0000</td>\n",
       "      <td>0.322581</td>\n",
       "      <td>0.000000</td>\n",
       "      <td>0.000000</td>\n",
       "      <td>0.000000</td>\n",
       "      <td>/kaggle/input/hms-harmful-brain-activity-class...</td>\n",
       "    </tr>\n",
       "    <tr>\n",
       "      <th>...</th>\n",
       "      <td>...</td>\n",
       "      <td>...</td>\n",
       "      <td>...</td>\n",
       "      <td>...</td>\n",
       "      <td>...</td>\n",
       "      <td>...</td>\n",
       "      <td>...</td>\n",
       "      <td>...</td>\n",
       "    </tr>\n",
       "    <tr>\n",
       "      <th>11133</th>\n",
       "      <td>2146188334</td>\n",
       "      <td>0.000000</td>\n",
       "      <td>0.0000</td>\n",
       "      <td>0.000000</td>\n",
       "      <td>0.000000</td>\n",
       "      <td>0.000000</td>\n",
       "      <td>1.000000</td>\n",
       "      <td>/kaggle/input/hms-harmful-brain-activity-class...</td>\n",
       "    </tr>\n",
       "    <tr>\n",
       "      <th>11134</th>\n",
       "      <td>2146414988</td>\n",
       "      <td>0.000000</td>\n",
       "      <td>1.0000</td>\n",
       "      <td>0.000000</td>\n",
       "      <td>0.000000</td>\n",
       "      <td>0.000000</td>\n",
       "      <td>0.000000</td>\n",
       "      <td>/kaggle/input/hms-harmful-brain-activity-class...</td>\n",
       "    </tr>\n",
       "    <tr>\n",
       "      <th>11135</th>\n",
       "      <td>2146798838</td>\n",
       "      <td>0.000000</td>\n",
       "      <td>0.5000</td>\n",
       "      <td>0.000000</td>\n",
       "      <td>0.111111</td>\n",
       "      <td>0.000000</td>\n",
       "      <td>0.388889</td>\n",
       "      <td>/kaggle/input/hms-harmful-brain-activity-class...</td>\n",
       "    </tr>\n",
       "    <tr>\n",
       "      <th>11136</th>\n",
       "      <td>2147312808</td>\n",
       "      <td>0.000000</td>\n",
       "      <td>1.0000</td>\n",
       "      <td>0.000000</td>\n",
       "      <td>0.000000</td>\n",
       "      <td>0.000000</td>\n",
       "      <td>0.000000</td>\n",
       "      <td>/kaggle/input/hms-harmful-brain-activity-class...</td>\n",
       "    </tr>\n",
       "    <tr>\n",
       "      <th>11137</th>\n",
       "      <td>2147388374</td>\n",
       "      <td>0.000000</td>\n",
       "      <td>0.0000</td>\n",
       "      <td>0.000000</td>\n",
       "      <td>1.000000</td>\n",
       "      <td>0.000000</td>\n",
       "      <td>0.000000</td>\n",
       "      <td>/kaggle/input/hms-harmful-brain-activity-class...</td>\n",
       "    </tr>\n",
       "  </tbody>\n",
       "</table>\n",
       "<p>11138 rows × 8 columns</p>\n",
       "</div>"
      ],
      "text/plain": [
       "       spectrogram_id  seizure_vote  lpd_vote  gpd_vote  lrda_vote  grda_vote  \\\n",
       "0              353733      1.000000    0.0000  0.000000   0.000000   0.000000   \n",
       "1              924234      0.000000    0.0000  0.454545   0.000000   0.090909   \n",
       "2              999431      0.000000    0.0625  0.000000   0.875000   0.000000   \n",
       "3             1084844      0.000000    0.0000  0.000000   1.000000   0.000000   \n",
       "4             1219001      0.677419    0.0000  0.322581   0.000000   0.000000   \n",
       "...               ...           ...       ...       ...        ...        ...   \n",
       "11133      2146188334      0.000000    0.0000  0.000000   0.000000   0.000000   \n",
       "11134      2146414988      0.000000    1.0000  0.000000   0.000000   0.000000   \n",
       "11135      2146798838      0.000000    0.5000  0.000000   0.111111   0.000000   \n",
       "11136      2147312808      0.000000    1.0000  0.000000   0.000000   0.000000   \n",
       "11137      2147388374      0.000000    0.0000  0.000000   1.000000   0.000000   \n",
       "\n",
       "       other_vote                                               path  \n",
       "0        0.000000  /kaggle/input/hms-harmful-brain-activity-class...  \n",
       "1        0.454545  /kaggle/input/hms-harmful-brain-activity-class...  \n",
       "2        0.062500  /kaggle/input/hms-harmful-brain-activity-class...  \n",
       "3        0.000000  /kaggle/input/hms-harmful-brain-activity-class...  \n",
       "4        0.000000  /kaggle/input/hms-harmful-brain-activity-class...  \n",
       "...           ...                                                ...  \n",
       "11133    1.000000  /kaggle/input/hms-harmful-brain-activity-class...  \n",
       "11134    0.000000  /kaggle/input/hms-harmful-brain-activity-class...  \n",
       "11135    0.388889  /kaggle/input/hms-harmful-brain-activity-class...  \n",
       "11136    0.000000  /kaggle/input/hms-harmful-brain-activity-class...  \n",
       "11137    0.000000  /kaggle/input/hms-harmful-brain-activity-class...  \n",
       "\n",
       "[11138 rows x 8 columns]"
      ]
     },
     "metadata": {},
     "output_type": "display_data"
    },
    {
     "data": {
      "text/plain": [
       "0"
      ]
     },
     "execution_count": 3,
     "metadata": {},
     "output_type": "execute_result"
    }
   ],
   "source": [
    "train_df = pd.read_csv(\"/kaggle/input/hms-harmful-brain-activity-classification/train.csv\")\n",
    "\n",
    "def extract_vote_count_features(input_data: pd.DataFrame) -> pd.DataFrame:\n",
    "    label_votes = pd.DataFrame()\n",
    "    \n",
    "    for label in labels:\n",
    "        input_grouped_by_spectrogram_id = input_data[f'{label}_vote'].groupby(input_data['spectrogram_id']).sum()\n",
    "\n",
    "        label_vote_sum = pd.DataFrame()\n",
    "        label_vote_sum[\"spectrogram_id\"] = input_grouped_by_spectrogram_id.index\n",
    "        label_vote_sum[f\"{label}_vote_sum\"] = input_grouped_by_spectrogram_id.values\n",
    "\n",
    "        if label == labels[0]:\n",
    "            label_votes = label_vote_sum\n",
    "        else:\n",
    "            label_votes = label_votes.merge(label_vote_sum, on='spectrogram_id', how='left')\n",
    "            \n",
    "    return label_votes\n",
    "\n",
    "def extract_features(input_data: pd.DataFrame) -> pd.DataFrame:\n",
    "    choose_cols = ['spectrogram_id']\n",
    "    feature_df = extract_vote_count_features(input_data)\n",
    "    \n",
    "    feature_df['total_vote'] = 0\n",
    "    for label in labels:\n",
    "        choose_cols += [f'{label}_vote']\n",
    "        feature_df['total_vote'] += feature_df[f'{label}_vote_sum']\n",
    "        \n",
    "    for label in labels:\n",
    "        feature_df[f'{label}_vote'] = feature_df[f'{label}_vote_sum'] / feature_df['total_vote']\n",
    "        \n",
    "    feature_df = feature_df[choose_cols]\n",
    "    feature_df['path'] = feature_df['spectrogram_id'].apply(lambda x: \"/kaggle/input/hms-harmful-brain-activity-classification/train_spectrograms/\" + str(x) + \".parquet\")\n",
    "    \n",
    "    return feature_df\n",
    "\n",
    "train_features = extract_features(train_df)\n",
    "display(train_features)\n",
    "    \n",
    "gc.collect()"
   ]
  },
  {
   "cell_type": "markdown",
   "id": "c671e898",
   "metadata": {
    "papermill": {
     "duration": 0.006965,
     "end_time": "2024-03-09T15:50:27.912352",
     "exception": false,
     "start_time": "2024-03-09T15:50:27.905387",
     "status": "completed"
    },
    "tags": []
   },
   "source": [
    "# Data Preprocessing"
   ]
  },
  {
   "cell_type": "code",
   "execution_count": 4,
   "id": "04b652a9",
   "metadata": {
    "execution": {
     "iopub.execute_input": "2024-03-09T15:50:27.927651Z",
     "iopub.status.busy": "2024-03-09T15:50:27.927363Z",
     "iopub.status.idle": "2024-03-09T15:50:27.939653Z",
     "shell.execute_reply": "2024-03-09T15:50:27.938830Z"
    },
    "papermill": {
     "duration": 0.022279,
     "end_time": "2024-03-09T15:50:27.941581",
     "exception": false,
     "start_time": "2024-03-09T15:50:27.919302",
     "status": "completed"
    },
    "tags": []
   },
   "outputs": [],
   "source": [
    "def preprocess(path_to_parquet, lowpass, highpass):\n",
    "    data = pd.read_parquet(path_to_parquet)\n",
    "    data = data.fillna(-1).values[:, 1:].T\n",
    "    data = np.clip(data, highpass, lowpass)\n",
    "    data = np.log(data)\n",
    "    \n",
    "    return data\n",
    "\n",
    "def get_dataset_wide_mean(paths, lowpass, highpass):\n",
    "    data_sum = 0\n",
    "    num_values = 0\n",
    "\n",
    "    for path in paths:      \n",
    "        data_point = preprocess(path[0], lowpass, highpass)\n",
    "        data_sum += data_point.sum(axis=(0, 1))\n",
    "        rows, columns = data_point.shape\n",
    "        num_values += rows * columns\n",
    "    \n",
    "    return data_sum / num_values\n",
    "\n",
    "def get_dataset_wide_std(paths, lowpass, highpass):\n",
    "    sum_of_stds = 0\n",
    "    num_values = 0\n",
    "    \n",
    "    for path in paths:\n",
    "        data_point = preprocess(path[0], lowpass, highpass)\n",
    "        sum_of_stds += np.sum((data_point - Config.dataset_wide_mean) ** 2)\n",
    "        rows, columns = data_point.shape\n",
    "        num_values += rows * columns\n",
    "    \n",
    "    return np.sqrt(sum_of_stds / (num_values - 1))\n",
    "\n",
    "def normalize_dataset_wide(data_point):\n",
    "    eps = 1e-6\n",
    "\n",
    "    data_point = (data_point - Config.dataset_wide_mean) / (Config.dataset_wide_std + eps)\n",
    "\n",
    "    data_tensor = torch.unsqueeze(torch.Tensor(data_point), dim=0)\n",
    "    data_point = Config.image_transform(data_tensor)\n",
    "\n",
    "    return data_point\n",
    "\n",
    "def normalize_instance_wise(data_point):\n",
    "    eps = 1e-6\n",
    "    \n",
    "    data_mean = data_point.mean(axis=(0, 1))\n",
    "    data_std = data_point.std(axis=(0, 1))\n",
    "    data_point = (data_point - data_mean) / (data_std + eps)\n",
    "    \n",
    "    data_tensor = torch.unsqueeze(torch.Tensor(data_point), dim=0)\n",
    "    data_point = Config.image_transform(data_tensor)\n",
    "    \n",
    "    return data_point\n",
    "\n",
    "def get_batch(paths, lowpass, highpass, normalization_dataset_wide):        \n",
    "    batch_data = []\n",
    "    \n",
    "    for path in paths:\n",
    "        data_point = preprocess(path[0], lowpass, highpass)\n",
    "        \n",
    "        if normalization_dataset_wide:\n",
    "            data_point = normalize_dataset_wide(data_point)\n",
    "        else:\n",
    "            data_point = normalize_instance_wise(data_point)\n",
    "        \n",
    "        batch_data.append(data_point)\n",
    "    batch_data = torch.stack(batch_data)\n",
    "\n",
    "    return batch_data\n"
   ]
  },
  {
   "cell_type": "code",
   "execution_count": 5,
   "id": "ccbbf734",
   "metadata": {
    "execution": {
     "iopub.execute_input": "2024-03-09T15:50:27.956385Z",
     "iopub.status.busy": "2024-03-09T15:50:27.956116Z",
     "iopub.status.idle": "2024-03-09T16:03:49.692709Z",
     "shell.execute_reply": "2024-03-09T16:03:49.691768Z"
    },
    "papermill": {
     "duration": 801.757686,
     "end_time": "2024-03-09T16:03:49.706238",
     "exception": false,
     "start_time": "2024-03-09T15:50:27.948552",
     "status": "completed"
    },
    "tags": []
   },
   "outputs": [
    {
     "name": "stdout",
     "output_type": "stream",
     "text": [
      "Calculating dataset-wide mean...\n",
      "Finished mean calculation!\n",
      "Calculating dataset-wide standard deviation...\n",
      "Finished standard deviation calculation!\n"
     ]
    },
    {
     "data": {
      "text/plain": [
       "0"
      ]
     },
     "execution_count": 5,
     "metadata": {},
     "output_type": "execute_result"
    }
   ],
   "source": [
    "print(\"Calculating dataset-wide mean...\")\n",
    "Config.dataset_wide_mean = get_dataset_wide_mean(train_features[[\"path\"]].values, HyperparameterPreset.lowpass, HyperparameterPreset.highpass)\n",
    "print(\"Finished mean calculation!\\nCalculating dataset-wide standard deviation...\")\n",
    "Config.dataset_wide_std = get_dataset_wide_std(train_features[[\"path\"]].values, HyperparameterPreset.lowpass, HyperparameterPreset.highpass)\n",
    "print(\"Finished standard deviation calculation!\")\n",
    "\n",
    "gc.collect()"
   ]
  },
  {
   "cell_type": "markdown",
   "id": "4b72550c",
   "metadata": {
    "papermill": {
     "duration": 0.00745,
     "end_time": "2024-03-09T16:03:49.722289",
     "exception": false,
     "start_time": "2024-03-09T16:03:49.714839",
     "status": "completed"
    },
    "tags": []
   },
   "source": [
    "# Objective Function"
   ]
  },
  {
   "cell_type": "code",
   "execution_count": 6,
   "id": "18e4cc55",
   "metadata": {
    "execution": {
     "iopub.execute_input": "2024-03-09T16:03:49.739431Z",
     "iopub.status.busy": "2024-03-09T16:03:49.739102Z",
     "iopub.status.idle": "2024-03-09T16:03:49.965818Z",
     "shell.execute_reply": "2024-03-09T16:03:49.964845Z"
    },
    "papermill": {
     "duration": 0.237779,
     "end_time": "2024-03-09T16:03:49.967780",
     "exception": false,
     "start_time": "2024-03-09T16:03:49.730001",
     "status": "completed"
    },
    "tags": []
   },
   "outputs": [
    {
     "data": {
      "text/plain": [
       "0"
      ]
     },
     "execution_count": 6,
     "metadata": {},
     "output_type": "execute_result"
    }
   ],
   "source": [
    "def get_fold_train_val_indexes(indexes: np.ndarray, fold: int) -> tuple[np.ndarray, np.ndarray]:\n",
    "    lower_bound = fold * len(indexes) // Config.num_folds\n",
    "    upper_bound = (fold + 1) * len(indexes) // Config.num_folds\n",
    "    \n",
    "    val_idx = indexes[lower_bound:upper_bound]\n",
    "    train_idx = []\n",
    "    \n",
    "    for index in indexes:\n",
    "        if index not in val_idx:\n",
    "            train_idx.append(index)\n",
    "            \n",
    "    train_idx = np.array(train_idx)\n",
    "    \n",
    "    return (train_idx, val_idx) \n",
    "\n",
    "def objective(trial) -> float:    \n",
    "    if trial is None:\n",
    "        lowpass = HyperparameterPreset.lowpass\n",
    "        highpass = HyperparameterPreset.highpass\n",
    "        learning_rate = HyperparameterPreset.learning_rate\n",
    "        dropout = HyperparameterPreset.dropout\n",
    "        scheduler_name = HyperparameterPreset.scheduler\n",
    "        normalize_dataset_wide = HyperparameterPreset.normalize_dataset_wide\n",
    "    else:\n",
    "        lowpass = trial.suggest_float(\"lowpass\", HyperparameterSpaces.lowpass[\"min\"], HyperparameterSpaces.lowpass[\"max\"])\n",
    "        highpass = trial.suggest_float(\"highpass\", HyperparameterSpaces.highpass[\"min\"], HyperparameterSpaces.highpass[\"max\"])\n",
    "        learning_rate = trial.suggest_float(\"learning_rate\", HyperparameterSpaces.learning_rate[\"min\"], HyperparameterSpaces.learning_rate[\"max\"])\n",
    "        dropout = trial.suggest_float(\"dropout\", HyperparameterSpaces.dropout[\"min\"], HyperparameterSpaces.dropout[\"max\"])\n",
    "        scheduler_name = trial.suggest_categorical(\"scheduler\", HyperparameterSpaces.schedulers)\n",
    "        normalize_dataset_wide = trial.suggest_categorical(\"normalize_dataset_wide\", HyperparameterSpaces.normalize_dataset_wide)\n",
    "    \n",
    "    for fold in range(Config.num_folds):        \n",
    "        train_idx, val_idx = get_fold_train_val_indexes(train_spectrogram_indexes, fold)\n",
    "\n",
    "        model = timm.create_model(\n",
    "            'efficientnet_b1', \n",
    "            pretrained=True, \n",
    "            num_classes=6, \n",
    "            in_chans=1, \n",
    "            drop_rate=dropout\n",
    "        ).to(device)\n",
    "\n",
    "        optimizer = optim.AdamW(\n",
    "            model.parameters(), \n",
    "            lr=learning_rate, \n",
    "            betas=(0.5, 0.999),\n",
    "            weight_decay=0.01\n",
    "        )\n",
    "            \n",
    "        if scheduler_name == \"CosineAnnealingLR\":\n",
    "            scheduler = CosineAnnealingLR(optimizer, T_max=Config.num_epochs)\n",
    "        elif scheduler_name == \"ReduceLROnPlateau\":\n",
    "            scheduler = ReduceLROnPlateau(optimizer)\n",
    "        else:\n",
    "            raise ValueError()\n",
    "\n",
    "        best_val_loss = float('inf')\n",
    "        train_losses = []\n",
    "        val_losses = []\n",
    "\n",
    "        print(f\"Starting training for fold {fold + 1}\")\n",
    "\n",
    "        for epoch in range(Config.num_epochs):\n",
    "            print(f\" Epoch: {epoch + 1}\")\n",
    "            model.train()\n",
    "            train_loss = []\n",
    "\n",
    "            random_num = np.arange(len(train_idx))\n",
    "            np.random.shuffle(random_num)\n",
    "            train_idx = train_idx[random_num]\n",
    "\n",
    "            print(f\"  Train - {len(train_idx)} indexes\")\n",
    "            for idx in range(0, len(train_idx), Config.batch_size):\n",
    "                optimizer.zero_grad()\n",
    "\n",
    "                train_batch_idx = train_idx[idx:idx + Config.batch_size]\n",
    "                train_batch_idx_paths = train_features[['path']].iloc[train_batch_idx].values\n",
    "                train_batch = get_batch(train_batch_idx_paths, lowpass, highpass, normalize_dataset_wide)\n",
    "                train_batch = train_batch.to(device)\n",
    "\n",
    "                train_target = train_features[['seizure_vote', 'lpd_vote', 'gpd_vote', 'lrda_vote', 'grda_vote', 'other_vote']].iloc[train_batch_idx].values\n",
    "                train_target = torch.Tensor(train_target).to(device)\n",
    "\n",
    "                train_pred = model(train_batch)\n",
    "\n",
    "                loss = kl_loss(train_target, train_pred)\n",
    "                loss.backward()\n",
    "                optimizer.step()\n",
    "\n",
    "                train_loss.append(loss.item())\n",
    "\n",
    "            epoch_train_loss = np.mean(train_loss)\n",
    "            train_losses.append(epoch_train_loss)\n",
    "            print(f\" Epoch {epoch + 1}: Train Loss = {epoch_train_loss:.2f}\")\n",
    "\n",
    "            if scheduler_name == \"CosineAnnealingLR\":\n",
    "                scheduler.step()\n",
    "\n",
    "            model.eval()\n",
    "            val_loss = []\n",
    "\n",
    "            with torch.no_grad():\n",
    "                print(f\"  Validation - {len(val_idx)} indexes\")\n",
    "                for idx in range(0, len(val_idx), Config.batch_size):\n",
    "                    val_batch_idx = val_idx[idx:idx + Config.batch_size]\n",
    "                    val_batch_idx_paths = train_features[['path']].iloc[val_batch_idx].values\n",
    "                    val_batch = get_batch(val_batch_idx_paths, lowpass, highpass, normalize_dataset_wide)\n",
    "                    val_batch = val_batch.to(device)\n",
    "\n",
    "                    val_target = train_features[['seizure_vote', 'lpd_vote', 'gpd_vote', 'lrda_vote', 'grda_vote', 'other_vote']].iloc[val_batch_idx].values\n",
    "                    val_target = torch.Tensor(val_target).to(device)\n",
    "\n",
    "                    val_pred = model(val_batch)\n",
    "\n",
    "                    loss = kl_loss(val_target, val_pred)\n",
    "                    val_loss.append(loss.item())\n",
    "\n",
    "            epoch_val_loss = np.mean(val_loss)\n",
    "            val_losses.append(epoch_val_loss)\n",
    "            print(f\" Epoch {epoch + 1}: Test Loss = {epoch_val_loss:.2f}\")\n",
    "            \n",
    "            if scheduler_name == \"ReduceLROnPlateau\":\n",
    "                    scheduler.step(epoch_val_loss)\n",
    "\n",
    "            if epoch_val_loss < best_val_loss:\n",
    "                best_val_loss = epoch_val_loss\n",
    "                torch.save(model.state_dict(), f\"efficientnet_b1_fold{fold}.pth\")\n",
    "\n",
    "            gc.collect()\n",
    "            \n",
    "            if trial is not None:\n",
    "                trial.report(epoch_val_loss, epoch)\n",
    "\n",
    "                if trial.should_prune():\n",
    "                    raise optuna.TrialPruned()\n",
    "        \n",
    "    print(f\"Fold {fold + 1} Best Test Loss: {best_val_loss:.2f}\")\n",
    "    \n",
    "    return best_val_loss\n",
    "\n",
    "train_spectrogram_indexes = np.arange(len(train_features))\n",
    "np.random.shuffle(train_spectrogram_indexes)\n",
    "    \n",
    "gc.collect()"
   ]
  },
  {
   "cell_type": "markdown",
   "id": "828bfc4e",
   "metadata": {
    "papermill": {
     "duration": 0.008176,
     "end_time": "2024-03-09T16:03:49.984049",
     "exception": false,
     "start_time": "2024-03-09T16:03:49.975873",
     "status": "completed"
    },
    "tags": []
   },
   "source": [
    "# Training/Optimization"
   ]
  },
  {
   "cell_type": "code",
   "execution_count": 7,
   "id": "3769c103",
   "metadata": {
    "execution": {
     "iopub.execute_input": "2024-03-09T16:03:50.002034Z",
     "iopub.status.busy": "2024-03-09T16:03:50.001705Z",
     "iopub.status.idle": "2024-03-09T21:49:56.570769Z",
     "shell.execute_reply": "2024-03-09T21:49:56.569432Z"
    },
    "papermill": {
     "duration": 20766.580192,
     "end_time": "2024-03-09T21:49:56.572475",
     "exception": true,
     "start_time": "2024-03-09T16:03:49.992283",
     "status": "failed"
    },
    "tags": []
   },
   "outputs": [
    {
     "name": "stderr",
     "output_type": "stream",
     "text": [
      "[I 2024-03-09 16:03:50,263] A new study created in memory with name: no-name-e342bdac-c7d0-4834-a073-c7e3b14f2cb5\n"
     ]
    },
    {
     "name": "stdout",
     "output_type": "stream",
     "text": [
      "Using device: cuda\n",
      "### STARTING HYPERPARAMETER OPTIMIZATION ###\n"
     ]
    },
    {
     "data": {
      "application/vnd.jupyter.widget-view+json": {
       "model_id": "7a0d06150d7c47fea68c1789c4cc4857",
       "version_major": 2,
       "version_minor": 0
      },
      "text/plain": [
       "model.safetensors:   0%|          | 0.00/31.5M [00:00<?, ?B/s]"
      ]
     },
     "metadata": {},
     "output_type": "display_data"
    },
    {
     "name": "stdout",
     "output_type": "stream",
     "text": [
      "Starting training for fold 1\n",
      " Epoch: 1\n",
      "  Train - 5569 indexes\n",
      " Epoch 1: Train Loss = 1.04\n",
      "  Validation - 5569 indexes\n",
      " Epoch 1: Test Loss = 0.84\n"
     ]
    },
    {
     "name": "stderr",
     "output_type": "stream",
     "text": [
      "[I 2024-03-09 16:13:00,698] Trial 0 pruned. \n"
     ]
    },
    {
     "name": "stdout",
     "output_type": "stream",
     "text": [
      "Starting training for fold 1\n",
      " Epoch: 1\n",
      "  Train - 5569 indexes\n",
      " Epoch 1: Train Loss = 1.04\n",
      "  Validation - 5569 indexes\n",
      " Epoch 1: Test Loss = 0.69\n"
     ]
    },
    {
     "name": "stderr",
     "output_type": "stream",
     "text": [
      "[I 2024-03-09 16:22:05,888] Trial 1 pruned. \n"
     ]
    },
    {
     "name": "stdout",
     "output_type": "stream",
     "text": [
      "Starting training for fold 1\n",
      " Epoch: 1\n",
      "  Train - 5569 indexes\n",
      " Epoch 1: Train Loss = 1.11\n",
      "  Validation - 5569 indexes\n",
      " Epoch 1: Test Loss = 0.83\n"
     ]
    },
    {
     "name": "stderr",
     "output_type": "stream",
     "text": [
      "[I 2024-03-09 16:31:08,187] Trial 2 pruned. \n"
     ]
    },
    {
     "name": "stdout",
     "output_type": "stream",
     "text": [
      "Starting training for fold 1\n",
      " Epoch: 1\n",
      "  Train - 5569 indexes\n",
      " Epoch 1: Train Loss = 1.05\n",
      "  Validation - 5569 indexes\n",
      " Epoch 1: Test Loss = 0.78\n"
     ]
    },
    {
     "name": "stderr",
     "output_type": "stream",
     "text": [
      "[I 2024-03-09 16:41:19,862] Trial 3 pruned. \n"
     ]
    },
    {
     "name": "stdout",
     "output_type": "stream",
     "text": [
      "Starting training for fold 1\n",
      " Epoch: 1\n",
      "  Train - 5569 indexes\n",
      " Epoch 1: Train Loss = 1.03\n",
      "  Validation - 5569 indexes\n",
      " Epoch 1: Test Loss = 0.77\n"
     ]
    },
    {
     "name": "stderr",
     "output_type": "stream",
     "text": [
      "[I 2024-03-09 16:50:34,280] Trial 4 pruned. \n"
     ]
    },
    {
     "name": "stdout",
     "output_type": "stream",
     "text": [
      "Starting training for fold 1\n",
      " Epoch: 1\n",
      "  Train - 5569 indexes\n",
      " Epoch 1: Train Loss = 1.01\n",
      "  Validation - 5569 indexes\n",
      " Epoch 1: Test Loss = 0.87\n"
     ]
    },
    {
     "name": "stderr",
     "output_type": "stream",
     "text": [
      "[I 2024-03-09 16:59:35,925] Trial 5 pruned. \n"
     ]
    },
    {
     "name": "stdout",
     "output_type": "stream",
     "text": [
      "Starting training for fold 1\n",
      " Epoch: 1\n",
      "  Train - 5569 indexes\n",
      " Epoch 1: Train Loss = 1.06\n",
      "  Validation - 5569 indexes\n",
      " Epoch 1: Test Loss = 1.09\n"
     ]
    },
    {
     "name": "stderr",
     "output_type": "stream",
     "text": [
      "[I 2024-03-09 17:08:39,518] Trial 6 pruned. \n"
     ]
    },
    {
     "name": "stdout",
     "output_type": "stream",
     "text": [
      "Starting training for fold 1\n",
      " Epoch: 1\n",
      "  Train - 5569 indexes\n",
      " Epoch 1: Train Loss = 1.04\n",
      "  Validation - 5569 indexes\n",
      " Epoch 1: Test Loss = 0.75\n"
     ]
    },
    {
     "name": "stderr",
     "output_type": "stream",
     "text": [
      "[I 2024-03-09 17:17:52,993] Trial 7 pruned. \n"
     ]
    },
    {
     "name": "stdout",
     "output_type": "stream",
     "text": [
      "Starting training for fold 1\n",
      " Epoch: 1\n",
      "  Train - 5569 indexes\n",
      " Epoch 1: Train Loss = 1.06\n",
      "  Validation - 5569 indexes\n",
      " Epoch 1: Test Loss = 0.77\n"
     ]
    },
    {
     "name": "stderr",
     "output_type": "stream",
     "text": [
      "[I 2024-03-09 17:26:57,869] Trial 8 pruned. \n"
     ]
    },
    {
     "name": "stdout",
     "output_type": "stream",
     "text": [
      "Starting training for fold 1\n",
      " Epoch: 1\n",
      "  Train - 5569 indexes\n",
      " Epoch 1: Train Loss = 1.07\n",
      "  Validation - 5569 indexes\n",
      " Epoch 1: Test Loss = 0.78\n"
     ]
    },
    {
     "name": "stderr",
     "output_type": "stream",
     "text": [
      "[I 2024-03-09 17:36:12,701] Trial 9 pruned. \n"
     ]
    },
    {
     "name": "stdout",
     "output_type": "stream",
     "text": [
      "Starting training for fold 1\n",
      " Epoch: 1\n",
      "  Train - 5569 indexes\n",
      " Epoch 1: Train Loss = 0.99\n",
      "  Validation - 5569 indexes\n",
      " Epoch 1: Test Loss = 0.68\n"
     ]
    },
    {
     "name": "stderr",
     "output_type": "stream",
     "text": [
      "[I 2024-03-09 17:45:26,191] Trial 10 pruned. \n"
     ]
    },
    {
     "name": "stdout",
     "output_type": "stream",
     "text": [
      "Starting training for fold 1\n",
      " Epoch: 1\n",
      "  Train - 5569 indexes\n",
      " Epoch 1: Train Loss = 1.04\n",
      "  Validation - 5569 indexes\n",
      " Epoch 1: Test Loss = 0.69\n"
     ]
    },
    {
     "name": "stderr",
     "output_type": "stream",
     "text": [
      "[I 2024-03-09 17:54:42,809] Trial 11 pruned. \n"
     ]
    },
    {
     "name": "stdout",
     "output_type": "stream",
     "text": [
      "Starting training for fold 1\n",
      " Epoch: 1\n",
      "  Train - 5569 indexes\n",
      " Epoch 1: Train Loss = 1.03\n",
      "  Validation - 5569 indexes\n",
      " Epoch 1: Test Loss = 0.71\n"
     ]
    },
    {
     "name": "stderr",
     "output_type": "stream",
     "text": [
      "[I 2024-03-09 18:03:28,410] Trial 12 pruned. \n"
     ]
    },
    {
     "name": "stdout",
     "output_type": "stream",
     "text": [
      "Starting training for fold 1\n",
      " Epoch: 1\n",
      "  Train - 5569 indexes\n",
      " Epoch 1: Train Loss = 1.05\n",
      "  Validation - 5569 indexes\n",
      " Epoch 1: Test Loss = 1.06\n"
     ]
    },
    {
     "name": "stderr",
     "output_type": "stream",
     "text": [
      "[I 2024-03-09 18:11:57,219] Trial 13 pruned. \n"
     ]
    },
    {
     "name": "stdout",
     "output_type": "stream",
     "text": [
      "Starting training for fold 1\n",
      " Epoch: 1\n",
      "  Train - 5569 indexes\n",
      " Epoch 1: Train Loss = 1.04\n",
      "  Validation - 5569 indexes\n",
      " Epoch 1: Test Loss = 0.89\n"
     ]
    },
    {
     "name": "stderr",
     "output_type": "stream",
     "text": [
      "[I 2024-03-09 18:20:08,103] Trial 14 pruned. \n"
     ]
    },
    {
     "name": "stdout",
     "output_type": "stream",
     "text": [
      "Starting training for fold 1\n",
      " Epoch: 1\n",
      "  Train - 5569 indexes\n",
      " Epoch 1: Train Loss = 1.04\n",
      "  Validation - 5569 indexes\n",
      " Epoch 1: Test Loss = 0.71\n"
     ]
    },
    {
     "name": "stderr",
     "output_type": "stream",
     "text": [
      "[I 2024-03-09 18:28:19,752] Trial 15 pruned. \n"
     ]
    },
    {
     "name": "stdout",
     "output_type": "stream",
     "text": [
      "Starting training for fold 1\n",
      " Epoch: 1\n",
      "  Train - 5569 indexes\n",
      " Epoch 1: Train Loss = 1.13\n",
      "  Validation - 5569 indexes\n",
      " Epoch 1: Test Loss = 0.76\n"
     ]
    },
    {
     "name": "stderr",
     "output_type": "stream",
     "text": [
      "[I 2024-03-09 18:37:15,403] Trial 16 pruned. \n"
     ]
    },
    {
     "name": "stdout",
     "output_type": "stream",
     "text": [
      "Starting training for fold 1\n",
      " Epoch: 1\n",
      "  Train - 5569 indexes\n",
      " Epoch 1: Train Loss = 1.05\n",
      "  Validation - 5569 indexes\n",
      " Epoch 1: Test Loss = 0.74\n"
     ]
    },
    {
     "name": "stderr",
     "output_type": "stream",
     "text": [
      "[I 2024-03-09 18:45:44,394] Trial 17 pruned. \n"
     ]
    },
    {
     "name": "stdout",
     "output_type": "stream",
     "text": [
      "Starting training for fold 1\n",
      " Epoch: 1\n",
      "  Train - 5569 indexes\n",
      " Epoch 1: Train Loss = 1.02\n",
      "  Validation - 5569 indexes\n",
      " Epoch 1: Test Loss = 0.69\n"
     ]
    },
    {
     "name": "stderr",
     "output_type": "stream",
     "text": [
      "[I 2024-03-09 18:53:51,743] Trial 18 pruned. \n"
     ]
    },
    {
     "name": "stdout",
     "output_type": "stream",
     "text": [
      "Starting training for fold 1\n",
      " Epoch: 1\n",
      "  Train - 5569 indexes\n",
      " Epoch 1: Train Loss = 1.05\n",
      "  Validation - 5569 indexes\n",
      " Epoch 1: Test Loss = 0.69\n"
     ]
    },
    {
     "name": "stderr",
     "output_type": "stream",
     "text": [
      "[I 2024-03-09 19:02:07,261] Trial 19 pruned. \n"
     ]
    },
    {
     "name": "stdout",
     "output_type": "stream",
     "text": [
      "Starting training for fold 1\n",
      " Epoch: 1\n",
      "  Train - 5569 indexes\n",
      " Epoch 1: Train Loss = 1.05\n",
      "  Validation - 5569 indexes\n",
      " Epoch 1: Test Loss = 0.73\n"
     ]
    },
    {
     "name": "stderr",
     "output_type": "stream",
     "text": [
      "[I 2024-03-09 19:10:36,341] Trial 20 pruned. \n"
     ]
    },
    {
     "name": "stdout",
     "output_type": "stream",
     "text": [
      "Starting training for fold 1\n",
      " Epoch: 1\n",
      "  Train - 5569 indexes\n",
      " Epoch 1: Train Loss = 1.02\n",
      "  Validation - 5569 indexes\n",
      " Epoch 1: Test Loss = 0.69\n"
     ]
    },
    {
     "name": "stderr",
     "output_type": "stream",
     "text": [
      "[I 2024-03-09 19:19:22,669] Trial 21 pruned. \n"
     ]
    },
    {
     "name": "stdout",
     "output_type": "stream",
     "text": [
      "Starting training for fold 1\n",
      " Epoch: 1\n",
      "  Train - 5569 indexes\n",
      " Epoch 1: Train Loss = 1.03\n",
      "  Validation - 5569 indexes\n",
      " Epoch 1: Test Loss = 0.64\n"
     ]
    },
    {
     "name": "stderr",
     "output_type": "stream",
     "text": [
      "[I 2024-03-09 19:27:54,314] Trial 22 pruned. \n"
     ]
    },
    {
     "name": "stdout",
     "output_type": "stream",
     "text": [
      "Starting training for fold 1\n",
      " Epoch: 1\n",
      "  Train - 5569 indexes\n",
      " Epoch 1: Train Loss = 1.01\n",
      "  Validation - 5569 indexes\n",
      " Epoch 1: Test Loss = 0.73\n"
     ]
    },
    {
     "name": "stderr",
     "output_type": "stream",
     "text": [
      "[I 2024-03-09 19:36:31,256] Trial 23 pruned. \n"
     ]
    },
    {
     "name": "stdout",
     "output_type": "stream",
     "text": [
      "Starting training for fold 1\n",
      " Epoch: 1\n",
      "  Train - 5569 indexes\n",
      " Epoch 1: Train Loss = 1.04\n",
      "  Validation - 5569 indexes\n",
      " Epoch 1: Test Loss = 0.78\n"
     ]
    },
    {
     "name": "stderr",
     "output_type": "stream",
     "text": [
      "[I 2024-03-09 19:44:52,413] Trial 24 pruned. \n"
     ]
    },
    {
     "name": "stdout",
     "output_type": "stream",
     "text": [
      "Starting training for fold 1\n",
      " Epoch: 1\n",
      "  Train - 5569 indexes\n",
      " Epoch 1: Train Loss = 1.04\n",
      "  Validation - 5569 indexes\n",
      " Epoch 1: Test Loss = 0.76\n"
     ]
    },
    {
     "name": "stderr",
     "output_type": "stream",
     "text": [
      "[I 2024-03-09 19:53:20,010] Trial 25 pruned. \n"
     ]
    },
    {
     "name": "stdout",
     "output_type": "stream",
     "text": [
      "Starting training for fold 1\n",
      " Epoch: 1\n",
      "  Train - 5569 indexes\n",
      " Epoch 1: Train Loss = 1.01\n",
      "  Validation - 5569 indexes\n",
      " Epoch 1: Test Loss = 0.69\n"
     ]
    },
    {
     "name": "stderr",
     "output_type": "stream",
     "text": [
      "[I 2024-03-09 20:01:38,797] Trial 26 pruned. \n"
     ]
    },
    {
     "name": "stdout",
     "output_type": "stream",
     "text": [
      "Starting training for fold 1\n",
      " Epoch: 1\n",
      "  Train - 5569 indexes\n",
      " Epoch 1: Train Loss = 1.00\n",
      "  Validation - 5569 indexes\n",
      " Epoch 1: Test Loss = 1.13\n"
     ]
    },
    {
     "name": "stderr",
     "output_type": "stream",
     "text": [
      "[I 2024-03-09 20:10:02,214] Trial 27 pruned. \n"
     ]
    },
    {
     "name": "stdout",
     "output_type": "stream",
     "text": [
      "Starting training for fold 1\n",
      " Epoch: 1\n",
      "  Train - 5569 indexes\n",
      " Epoch 1: Train Loss = 1.04\n",
      "  Validation - 5569 indexes\n",
      " Epoch 1: Test Loss = 0.78\n"
     ]
    },
    {
     "name": "stderr",
     "output_type": "stream",
     "text": [
      "[I 2024-03-09 20:18:57,274] Trial 28 pruned. \n"
     ]
    },
    {
     "name": "stdout",
     "output_type": "stream",
     "text": [
      "Starting training for fold 1\n",
      " Epoch: 1\n",
      "  Train - 5569 indexes\n",
      " Epoch 1: Train Loss = 1.00\n",
      "  Validation - 5569 indexes\n",
      " Epoch 1: Test Loss = 0.70\n"
     ]
    },
    {
     "name": "stderr",
     "output_type": "stream",
     "text": [
      "[I 2024-03-09 20:27:24,588] Trial 29 pruned. \n"
     ]
    },
    {
     "name": "stdout",
     "output_type": "stream",
     "text": [
      "Starting training for fold 1\n",
      " Epoch: 1\n",
      "  Train - 5569 indexes\n",
      " Epoch 1: Train Loss = 1.04\n",
      "  Validation - 5569 indexes\n",
      " Epoch 1: Test Loss = 0.69\n"
     ]
    },
    {
     "name": "stderr",
     "output_type": "stream",
     "text": [
      "[I 2024-03-09 20:35:39,312] Trial 30 pruned. \n"
     ]
    },
    {
     "name": "stdout",
     "output_type": "stream",
     "text": [
      "Starting training for fold 1\n",
      " Epoch: 1\n",
      "  Train - 5569 indexes\n",
      " Epoch 1: Train Loss = 1.01\n",
      "  Validation - 5569 indexes\n",
      " Epoch 1: Test Loss = 0.77\n"
     ]
    },
    {
     "name": "stderr",
     "output_type": "stream",
     "text": [
      "[I 2024-03-09 20:44:07,185] Trial 31 pruned. \n"
     ]
    },
    {
     "name": "stdout",
     "output_type": "stream",
     "text": [
      "Starting training for fold 1\n",
      " Epoch: 1\n",
      "  Train - 5569 indexes\n",
      " Epoch 1: Train Loss = 1.07\n",
      "  Validation - 5569 indexes\n",
      " Epoch 1: Test Loss = 0.80\n"
     ]
    },
    {
     "name": "stderr",
     "output_type": "stream",
     "text": [
      "[I 2024-03-09 20:52:20,100] Trial 32 pruned. \n"
     ]
    },
    {
     "name": "stdout",
     "output_type": "stream",
     "text": [
      "Starting training for fold 1\n",
      " Epoch: 1\n",
      "  Train - 5569 indexes\n",
      " Epoch 1: Train Loss = 1.04\n",
      "  Validation - 5569 indexes\n",
      " Epoch 1: Test Loss = 0.70\n"
     ]
    },
    {
     "name": "stderr",
     "output_type": "stream",
     "text": [
      "[I 2024-03-09 21:00:37,359] Trial 33 pruned. \n"
     ]
    },
    {
     "name": "stdout",
     "output_type": "stream",
     "text": [
      "Starting training for fold 1\n",
      " Epoch: 1\n",
      "  Train - 5569 indexes\n",
      " Epoch 1: Train Loss = 1.01\n",
      "  Validation - 5569 indexes\n",
      " Epoch 1: Test Loss = 0.68\n"
     ]
    },
    {
     "name": "stderr",
     "output_type": "stream",
     "text": [
      "[I 2024-03-09 21:08:44,256] Trial 34 pruned. \n"
     ]
    },
    {
     "name": "stdout",
     "output_type": "stream",
     "text": [
      "Starting training for fold 1\n",
      " Epoch: 1\n",
      "  Train - 5569 indexes\n",
      " Epoch 1: Train Loss = 1.10\n",
      "  Validation - 5569 indexes\n",
      " Epoch 1: Test Loss = 0.75\n"
     ]
    },
    {
     "name": "stderr",
     "output_type": "stream",
     "text": [
      "[I 2024-03-09 21:16:57,013] Trial 35 pruned. \n"
     ]
    },
    {
     "name": "stdout",
     "output_type": "stream",
     "text": [
      "Starting training for fold 1\n",
      " Epoch: 1\n",
      "  Train - 5569 indexes\n",
      " Epoch 1: Train Loss = 1.07\n",
      "  Validation - 5569 indexes\n",
      " Epoch 1: Test Loss = 0.88\n"
     ]
    },
    {
     "name": "stderr",
     "output_type": "stream",
     "text": [
      "[I 2024-03-09 21:25:05,214] Trial 36 pruned. \n"
     ]
    },
    {
     "name": "stdout",
     "output_type": "stream",
     "text": [
      "Starting training for fold 1\n",
      " Epoch: 1\n",
      "  Train - 5569 indexes\n",
      " Epoch 1: Train Loss = 1.07\n",
      "  Validation - 5569 indexes\n",
      " Epoch 1: Test Loss = 0.67\n"
     ]
    },
    {
     "name": "stderr",
     "output_type": "stream",
     "text": [
      "[I 2024-03-09 21:33:21,905] Trial 37 pruned. \n"
     ]
    },
    {
     "name": "stdout",
     "output_type": "stream",
     "text": [
      "Starting training for fold 1\n",
      " Epoch: 1\n",
      "  Train - 5569 indexes\n",
      " Epoch 1: Train Loss = 1.06\n",
      "  Validation - 5569 indexes\n",
      " Epoch 1: Test Loss = 0.81\n"
     ]
    },
    {
     "name": "stderr",
     "output_type": "stream",
     "text": [
      "[I 2024-03-09 21:41:48,566] Trial 38 pruned. \n"
     ]
    },
    {
     "name": "stdout",
     "output_type": "stream",
     "text": [
      "Starting training for fold 1\n",
      " Epoch: 1\n",
      "  Train - 5569 indexes\n",
      " Epoch 1: Train Loss = 1.09\n",
      "  Validation - 5569 indexes\n",
      " Epoch 1: Test Loss = 0.89\n"
     ]
    },
    {
     "name": "stderr",
     "output_type": "stream",
     "text": [
      "[I 2024-03-09 21:49:56,023] Trial 39 pruned. \n"
     ]
    },
    {
     "ename": "ValueError",
     "evalue": "No trials are completed yet.",
     "output_type": "error",
     "traceback": [
      "\u001b[0;31m---------------------------------------------------------------------------\u001b[0m",
      "\u001b[0;31mValueError\u001b[0m                                Traceback (most recent call last)",
      "Cell \u001b[0;32mIn[7], line 14\u001b[0m\n\u001b[1;32m     11\u001b[0m study \u001b[38;5;241m=\u001b[39m optuna\u001b[38;5;241m.\u001b[39mcreate_study(pruner\u001b[38;5;241m=\u001b[39moptuna\u001b[38;5;241m.\u001b[39mpruners\u001b[38;5;241m.\u001b[39mThresholdPruner(upper\u001b[38;5;241m=\u001b[39mConfig\u001b[38;5;241m.\u001b[39mmanual_pruning_threshold))\n\u001b[1;32m     12\u001b[0m study\u001b[38;5;241m.\u001b[39moptimize(objective, n_trials\u001b[38;5;241m=\u001b[39mConfig\u001b[38;5;241m.\u001b[39mnum_trials)\n\u001b[0;32m---> 14\u001b[0m \u001b[38;5;28mprint\u001b[39m(\u001b[38;5;124m\"\u001b[39m\u001b[38;5;124mBest test loss:\u001b[39m\u001b[38;5;124m\"\u001b[39m, \u001b[43mstudy\u001b[49m\u001b[38;5;241;43m.\u001b[39;49m\u001b[43mbest_value\u001b[49m)\n\u001b[1;32m     15\u001b[0m \u001b[38;5;28mprint\u001b[39m(\u001b[38;5;124m\"\u001b[39m\u001b[38;5;124mBest trial run:\u001b[39m\u001b[38;5;124m\"\u001b[39m, study\u001b[38;5;241m.\u001b[39mbest_trial)\n\u001b[1;32m     16\u001b[0m \u001b[38;5;28mprint\u001b[39m(\u001b[38;5;124m\"\u001b[39m\u001b[38;5;124mHyperparameter values for best test loss:\u001b[39m\u001b[38;5;124m\"\u001b[39m)\n",
      "File \u001b[0;32m/opt/conda/lib/python3.10/site-packages/optuna/study/study.py:128\u001b[0m, in \u001b[0;36mStudy.best_value\u001b[0;34m(self)\u001b[0m\n\u001b[1;32m    116\u001b[0m \u001b[38;5;129m@property\u001b[39m\n\u001b[1;32m    117\u001b[0m \u001b[38;5;28;01mdef\u001b[39;00m \u001b[38;5;21mbest_value\u001b[39m(\u001b[38;5;28mself\u001b[39m) \u001b[38;5;241m-\u001b[39m\u001b[38;5;241m>\u001b[39m \u001b[38;5;28mfloat\u001b[39m:\n\u001b[1;32m    118\u001b[0m \u001b[38;5;250m    \u001b[39m\u001b[38;5;124;03m\"\"\"Return the best objective value in the study.\u001b[39;00m\n\u001b[1;32m    119\u001b[0m \n\u001b[1;32m    120\u001b[0m \u001b[38;5;124;03m    .. note::\u001b[39;00m\n\u001b[0;32m   (...)\u001b[0m\n\u001b[1;32m    125\u001b[0m \n\u001b[1;32m    126\u001b[0m \u001b[38;5;124;03m    \"\"\"\u001b[39;00m\n\u001b[0;32m--> 128\u001b[0m     best_value \u001b[38;5;241m=\u001b[39m \u001b[38;5;28;43mself\u001b[39;49m\u001b[38;5;241;43m.\u001b[39;49m\u001b[43mbest_trial\u001b[49m\u001b[38;5;241m.\u001b[39mvalue\n\u001b[1;32m    129\u001b[0m     \u001b[38;5;28;01massert\u001b[39;00m best_value \u001b[38;5;129;01mis\u001b[39;00m \u001b[38;5;129;01mnot\u001b[39;00m \u001b[38;5;28;01mNone\u001b[39;00m\n\u001b[1;32m    131\u001b[0m     \u001b[38;5;28;01mreturn\u001b[39;00m best_value\n",
      "File \u001b[0;32m/opt/conda/lib/python3.10/site-packages/optuna/study/study.py:157\u001b[0m, in \u001b[0;36mStudy.best_trial\u001b[0;34m(self)\u001b[0m\n\u001b[1;32m    151\u001b[0m \u001b[38;5;28;01mif\u001b[39;00m \u001b[38;5;28mself\u001b[39m\u001b[38;5;241m.\u001b[39m_is_multi_objective():\n\u001b[1;32m    152\u001b[0m     \u001b[38;5;28;01mraise\u001b[39;00m \u001b[38;5;167;01mRuntimeError\u001b[39;00m(\n\u001b[1;32m    153\u001b[0m         \u001b[38;5;124m\"\u001b[39m\u001b[38;5;124mA single best trial cannot be retrieved from a multi-objective study. Consider \u001b[39m\u001b[38;5;124m\"\u001b[39m\n\u001b[1;32m    154\u001b[0m         \u001b[38;5;124m\"\u001b[39m\u001b[38;5;124musing Study.best_trials to retrieve a list containing the best trials.\u001b[39m\u001b[38;5;124m\"\u001b[39m\n\u001b[1;32m    155\u001b[0m     )\n\u001b[0;32m--> 157\u001b[0m \u001b[38;5;28;01mreturn\u001b[39;00m copy\u001b[38;5;241m.\u001b[39mdeepcopy(\u001b[38;5;28;43mself\u001b[39;49m\u001b[38;5;241;43m.\u001b[39;49m\u001b[43m_storage\u001b[49m\u001b[38;5;241;43m.\u001b[39;49m\u001b[43mget_best_trial\u001b[49m\u001b[43m(\u001b[49m\u001b[38;5;28;43mself\u001b[39;49m\u001b[38;5;241;43m.\u001b[39;49m\u001b[43m_study_id\u001b[49m\u001b[43m)\u001b[49m)\n",
      "File \u001b[0;32m/opt/conda/lib/python3.10/site-packages/optuna/storages/_in_memory.py:234\u001b[0m, in \u001b[0;36mInMemoryStorage.get_best_trial\u001b[0;34m(self, study_id)\u001b[0m\n\u001b[1;32m    231\u001b[0m best_trial_id \u001b[38;5;241m=\u001b[39m \u001b[38;5;28mself\u001b[39m\u001b[38;5;241m.\u001b[39m_studies[study_id]\u001b[38;5;241m.\u001b[39mbest_trial_id\n\u001b[1;32m    233\u001b[0m \u001b[38;5;28;01mif\u001b[39;00m best_trial_id \u001b[38;5;129;01mis\u001b[39;00m \u001b[38;5;28;01mNone\u001b[39;00m:\n\u001b[0;32m--> 234\u001b[0m     \u001b[38;5;28;01mraise\u001b[39;00m \u001b[38;5;167;01mValueError\u001b[39;00m(\u001b[38;5;124m\"\u001b[39m\u001b[38;5;124mNo trials are completed yet.\u001b[39m\u001b[38;5;124m\"\u001b[39m)\n\u001b[1;32m    235\u001b[0m \u001b[38;5;28;01melif\u001b[39;00m \u001b[38;5;28mlen\u001b[39m(\u001b[38;5;28mself\u001b[39m\u001b[38;5;241m.\u001b[39m_studies[study_id]\u001b[38;5;241m.\u001b[39mdirections) \u001b[38;5;241m>\u001b[39m \u001b[38;5;241m1\u001b[39m:\n\u001b[1;32m    236\u001b[0m     \u001b[38;5;28;01mraise\u001b[39;00m \u001b[38;5;167;01mRuntimeError\u001b[39;00m(\n\u001b[1;32m    237\u001b[0m         \u001b[38;5;124m\"\u001b[39m\u001b[38;5;124mBest trial can be obtained only for single-objective optimization.\u001b[39m\u001b[38;5;124m\"\u001b[39m\n\u001b[1;32m    238\u001b[0m     )\n",
      "\u001b[0;31mValueError\u001b[0m: No trials are completed yet."
     ]
    }
   ],
   "source": [
    "device = 'cuda' if torch.cuda.is_available() else 'cpu'\n",
    "print(f\"Using device: {device}\")\n",
    "\n",
    "gc.collect()\n",
    "\n",
    "if Config.optimize_hyperparameters:\n",
    "    Config.num_folds = 2\n",
    "    Config.num_epochs = 2\n",
    "    \n",
    "    print(\"### STARTING HYPERPARAMETER OPTIMIZATION ###\")\n",
    "    study = optuna.create_study(pruner=optuna.pruners.ThresholdPruner(upper=Config.manual_pruning_threshold))\n",
    "    study.optimize(objective, n_trials=Config.num_trials)\n",
    "\n",
    "    print(\"Best test loss:\", study.best_value)\n",
    "    print(\"Best trial run:\", study.best_trial)\n",
    "    print(\"Hyperparameter values for best test loss:\")\n",
    "    print(study.best_params)\n",
    "    print(\"### FINISHED HYPERPARAMETER OPTIMIZATION ###\")\n",
    "else:\n",
    "    print(\"### STARTING MODEL TRAINING ###\")\n",
    "    objective(None)\n",
    "    print(\"### FINISHED MODEL TRAINING ###\")"
   ]
  }
 ],
 "metadata": {
  "kaggle": {
   "accelerator": "none",
   "dataSources": [
    {
     "databundleVersionId": 7469972,
     "sourceId": 59093,
     "sourceType": "competition"
    }
   ],
   "dockerImageVersionId": 30648,
   "isGpuEnabled": false,
   "isInternetEnabled": true,
   "language": "python",
   "sourceType": "notebook"
  },
  "kernelspec": {
   "display_name": "Python 3",
   "language": "python",
   "name": "python3"
  },
  "language_info": {
   "codemirror_mode": {
    "name": "ipython",
    "version": 3
   },
   "file_extension": ".py",
   "mimetype": "text/x-python",
   "name": "python",
   "nbconvert_exporter": "python",
   "pygments_lexer": "ipython3",
   "version": "3.10.13"
  },
  "papermill": {
   "default_parameters": {},
   "duration": 21584.534142,
   "end_time": "2024-03-09T21:49:58.858899",
   "environment_variables": {},
   "exception": true,
   "input_path": "__notebook__.ipynb",
   "output_path": "__notebook__.ipynb",
   "parameters": {},
   "start_time": "2024-03-09T15:50:14.324757",
   "version": "2.4.0"
  },
  "widgets": {
   "application/vnd.jupyter.widget-state+json": {
    "state": {
     "0b4bf76e1d02470c8037aac0c126d01d": {
      "model_module": "@jupyter-widgets/controls",
      "model_module_version": "1.5.0",
      "model_name": "FloatProgressModel",
      "state": {
       "_dom_classes": [],
       "_model_module": "@jupyter-widgets/controls",
       "_model_module_version": "1.5.0",
       "_model_name": "FloatProgressModel",
       "_view_count": null,
       "_view_module": "@jupyter-widgets/controls",
       "_view_module_version": "1.5.0",
       "_view_name": "ProgressView",
       "bar_style": "success",
       "description": "",
       "description_tooltip": null,
       "layout": "IPY_MODEL_d0eafd08354a4a9d985a3fdc194ccbdf",
       "max": 31471874.0,
       "min": 0.0,
       "orientation": "horizontal",
       "style": "IPY_MODEL_b09e298561484fcf9d39293703815a68",
       "value": 31471874.0
      }
     },
     "50fad313cb2c494ab4a9b2b22a22fda5": {
      "model_module": "@jupyter-widgets/controls",
      "model_module_version": "1.5.0",
      "model_name": "HTMLModel",
      "state": {
       "_dom_classes": [],
       "_model_module": "@jupyter-widgets/controls",
       "_model_module_version": "1.5.0",
       "_model_name": "HTMLModel",
       "_view_count": null,
       "_view_module": "@jupyter-widgets/controls",
       "_view_module_version": "1.5.0",
       "_view_name": "HTMLView",
       "description": "",
       "description_tooltip": null,
       "layout": "IPY_MODEL_dfabb1e92411470aa86cf491c62e2cd8",
       "placeholder": "​",
       "style": "IPY_MODEL_8db260227eb947fdbfa79ca187372a36",
       "value": " 31.5M/31.5M [00:00&lt;00:00, 68.1MB/s]"
      }
     },
     "62c6014e27aa4814a86a439275af244c": {
      "model_module": "@jupyter-widgets/base",
      "model_module_version": "1.2.0",
      "model_name": "LayoutModel",
      "state": {
       "_model_module": "@jupyter-widgets/base",
       "_model_module_version": "1.2.0",
       "_model_name": "LayoutModel",
       "_view_count": null,
       "_view_module": "@jupyter-widgets/base",
       "_view_module_version": "1.2.0",
       "_view_name": "LayoutView",
       "align_content": null,
       "align_items": null,
       "align_self": null,
       "border": null,
       "bottom": null,
       "display": null,
       "flex": null,
       "flex_flow": null,
       "grid_area": null,
       "grid_auto_columns": null,
       "grid_auto_flow": null,
       "grid_auto_rows": null,
       "grid_column": null,
       "grid_gap": null,
       "grid_row": null,
       "grid_template_areas": null,
       "grid_template_columns": null,
       "grid_template_rows": null,
       "height": null,
       "justify_content": null,
       "justify_items": null,
       "left": null,
       "margin": null,
       "max_height": null,
       "max_width": null,
       "min_height": null,
       "min_width": null,
       "object_fit": null,
       "object_position": null,
       "order": null,
       "overflow": null,
       "overflow_x": null,
       "overflow_y": null,
       "padding": null,
       "right": null,
       "top": null,
       "visibility": null,
       "width": null
      }
     },
     "7a0d06150d7c47fea68c1789c4cc4857": {
      "model_module": "@jupyter-widgets/controls",
      "model_module_version": "1.5.0",
      "model_name": "HBoxModel",
      "state": {
       "_dom_classes": [],
       "_model_module": "@jupyter-widgets/controls",
       "_model_module_version": "1.5.0",
       "_model_name": "HBoxModel",
       "_view_count": null,
       "_view_module": "@jupyter-widgets/controls",
       "_view_module_version": "1.5.0",
       "_view_name": "HBoxView",
       "box_style": "",
       "children": [
        "IPY_MODEL_c0c010347d33478bba518cb745813be0",
        "IPY_MODEL_0b4bf76e1d02470c8037aac0c126d01d",
        "IPY_MODEL_50fad313cb2c494ab4a9b2b22a22fda5"
       ],
       "layout": "IPY_MODEL_ca8c8a3a96a148a098a71d3ee2fceeee"
      }
     },
     "8db260227eb947fdbfa79ca187372a36": {
      "model_module": "@jupyter-widgets/controls",
      "model_module_version": "1.5.0",
      "model_name": "DescriptionStyleModel",
      "state": {
       "_model_module": "@jupyter-widgets/controls",
       "_model_module_version": "1.5.0",
       "_model_name": "DescriptionStyleModel",
       "_view_count": null,
       "_view_module": "@jupyter-widgets/base",
       "_view_module_version": "1.2.0",
       "_view_name": "StyleView",
       "description_width": ""
      }
     },
     "b09e298561484fcf9d39293703815a68": {
      "model_module": "@jupyter-widgets/controls",
      "model_module_version": "1.5.0",
      "model_name": "ProgressStyleModel",
      "state": {
       "_model_module": "@jupyter-widgets/controls",
       "_model_module_version": "1.5.0",
       "_model_name": "ProgressStyleModel",
       "_view_count": null,
       "_view_module": "@jupyter-widgets/base",
       "_view_module_version": "1.2.0",
       "_view_name": "StyleView",
       "bar_color": null,
       "description_width": ""
      }
     },
     "bc3df528bd624415a096ef247e787139": {
      "model_module": "@jupyter-widgets/controls",
      "model_module_version": "1.5.0",
      "model_name": "DescriptionStyleModel",
      "state": {
       "_model_module": "@jupyter-widgets/controls",
       "_model_module_version": "1.5.0",
       "_model_name": "DescriptionStyleModel",
       "_view_count": null,
       "_view_module": "@jupyter-widgets/base",
       "_view_module_version": "1.2.0",
       "_view_name": "StyleView",
       "description_width": ""
      }
     },
     "c0c010347d33478bba518cb745813be0": {
      "model_module": "@jupyter-widgets/controls",
      "model_module_version": "1.5.0",
      "model_name": "HTMLModel",
      "state": {
       "_dom_classes": [],
       "_model_module": "@jupyter-widgets/controls",
       "_model_module_version": "1.5.0",
       "_model_name": "HTMLModel",
       "_view_count": null,
       "_view_module": "@jupyter-widgets/controls",
       "_view_module_version": "1.5.0",
       "_view_name": "HTMLView",
       "description": "",
       "description_tooltip": null,
       "layout": "IPY_MODEL_62c6014e27aa4814a86a439275af244c",
       "placeholder": "​",
       "style": "IPY_MODEL_bc3df528bd624415a096ef247e787139",
       "value": "model.safetensors: 100%"
      }
     },
     "ca8c8a3a96a148a098a71d3ee2fceeee": {
      "model_module": "@jupyter-widgets/base",
      "model_module_version": "1.2.0",
      "model_name": "LayoutModel",
      "state": {
       "_model_module": "@jupyter-widgets/base",
       "_model_module_version": "1.2.0",
       "_model_name": "LayoutModel",
       "_view_count": null,
       "_view_module": "@jupyter-widgets/base",
       "_view_module_version": "1.2.0",
       "_view_name": "LayoutView",
       "align_content": null,
       "align_items": null,
       "align_self": null,
       "border": null,
       "bottom": null,
       "display": null,
       "flex": null,
       "flex_flow": null,
       "grid_area": null,
       "grid_auto_columns": null,
       "grid_auto_flow": null,
       "grid_auto_rows": null,
       "grid_column": null,
       "grid_gap": null,
       "grid_row": null,
       "grid_template_areas": null,
       "grid_template_columns": null,
       "grid_template_rows": null,
       "height": null,
       "justify_content": null,
       "justify_items": null,
       "left": null,
       "margin": null,
       "max_height": null,
       "max_width": null,
       "min_height": null,
       "min_width": null,
       "object_fit": null,
       "object_position": null,
       "order": null,
       "overflow": null,
       "overflow_x": null,
       "overflow_y": null,
       "padding": null,
       "right": null,
       "top": null,
       "visibility": null,
       "width": null
      }
     },
     "d0eafd08354a4a9d985a3fdc194ccbdf": {
      "model_module": "@jupyter-widgets/base",
      "model_module_version": "1.2.0",
      "model_name": "LayoutModel",
      "state": {
       "_model_module": "@jupyter-widgets/base",
       "_model_module_version": "1.2.0",
       "_model_name": "LayoutModel",
       "_view_count": null,
       "_view_module": "@jupyter-widgets/base",
       "_view_module_version": "1.2.0",
       "_view_name": "LayoutView",
       "align_content": null,
       "align_items": null,
       "align_self": null,
       "border": null,
       "bottom": null,
       "display": null,
       "flex": null,
       "flex_flow": null,
       "grid_area": null,
       "grid_auto_columns": null,
       "grid_auto_flow": null,
       "grid_auto_rows": null,
       "grid_column": null,
       "grid_gap": null,
       "grid_row": null,
       "grid_template_areas": null,
       "grid_template_columns": null,
       "grid_template_rows": null,
       "height": null,
       "justify_content": null,
       "justify_items": null,
       "left": null,
       "margin": null,
       "max_height": null,
       "max_width": null,
       "min_height": null,
       "min_width": null,
       "object_fit": null,
       "object_position": null,
       "order": null,
       "overflow": null,
       "overflow_x": null,
       "overflow_y": null,
       "padding": null,
       "right": null,
       "top": null,
       "visibility": null,
       "width": null
      }
     },
     "dfabb1e92411470aa86cf491c62e2cd8": {
      "model_module": "@jupyter-widgets/base",
      "model_module_version": "1.2.0",
      "model_name": "LayoutModel",
      "state": {
       "_model_module": "@jupyter-widgets/base",
       "_model_module_version": "1.2.0",
       "_model_name": "LayoutModel",
       "_view_count": null,
       "_view_module": "@jupyter-widgets/base",
       "_view_module_version": "1.2.0",
       "_view_name": "LayoutView",
       "align_content": null,
       "align_items": null,
       "align_self": null,
       "border": null,
       "bottom": null,
       "display": null,
       "flex": null,
       "flex_flow": null,
       "grid_area": null,
       "grid_auto_columns": null,
       "grid_auto_flow": null,
       "grid_auto_rows": null,
       "grid_column": null,
       "grid_gap": null,
       "grid_row": null,
       "grid_template_areas": null,
       "grid_template_columns": null,
       "grid_template_rows": null,
       "height": null,
       "justify_content": null,
       "justify_items": null,
       "left": null,
       "margin": null,
       "max_height": null,
       "max_width": null,
       "min_height": null,
       "min_width": null,
       "object_fit": null,
       "object_position": null,
       "order": null,
       "overflow": null,
       "overflow_x": null,
       "overflow_y": null,
       "padding": null,
       "right": null,
       "top": null,
       "visibility": null,
       "width": null
      }
     }
    },
    "version_major": 2,
    "version_minor": 0
   }
  }
 },
 "nbformat": 4,
 "nbformat_minor": 5
}
